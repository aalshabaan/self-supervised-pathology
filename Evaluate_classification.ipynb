{
 "cells": [
  {
   "cell_type": "markdown",
   "metadata": {
    "collapsed": true,
    "pycharm": {
     "name": "#%% md\n"
    }
   },
   "source": [
    "# Evaluate the classifier's transferability on a tiled dataset from Bern cohorts"
   ]
  },
  {
   "cell_type": "code",
   "execution_count": null,
   "outputs": [],
   "source": [
    "import os\n",
    "import functools\n",
    "\n",
    "import torch\n",
    "from torch import nn\n",
    "from torch.nn import functional as F\n",
    "from torch.utils.data import DataLoader\n",
    "from sklearn.metrics import f1_score, accuracy_score\n",
    "import numpy as np\n",
    "from tqdm import tqdm\n",
    "\n",
    "import Abed_utils"
   ],
   "metadata": {
    "collapsed": false,
    "pycharm": {
     "name": "#%%\n"
    }
   }
  },
  {
   "cell_type": "markdown",
   "source": [
    "## Load and build model"
   ],
   "metadata": {
    "collapsed": false,
    "pycharm": {
     "name": "#%% md\n"
    }
   }
  },
  {
   "cell_type": "code",
   "execution_count": null,
   "outputs": [],
   "source": [
    "patch_size = 8\n",
    "batch_size = 8\n",
    "im_size = 224\n",
    "path_to_backbone = './ckpts/dino_deitsmall8_pretrain.pth'\n",
    "path_to_classifier = './ckpts/classifier_K19_CE_100ep_one_layer.pt'\n",
    "\n",
    "transform = functools.partial(Abed_utils.normalize_input, im_size=im_size, patch_size=patch_size)"
   ],
   "metadata": {
    "collapsed": false,
    "pycharm": {
     "name": "#%%\n"
    }
   }
  },
  {
   "cell_type": "code",
   "execution_count": null,
   "outputs": [],
   "source": [
    "backbone = Abed_utils.get_vit(patch_size, path_to_backbone)\n",
    "\n",
    "classifier = Abed_utils.ClassificationHead(pretrained_path=path_to_classifier)\n",
    "\n",
    "model = nn.Sequential(backbone, classifier)\n",
    "model.eval()"
   ],
   "metadata": {
    "collapsed": false,
    "pycharm": {
     "name": "#%%\n"
    }
   }
  },
  {
   "cell_type": "code",
   "execution_count": null,
   "outputs": [],
   "source": [
    "if Abed_utils.BERN_TILES_ROOT is None:\n",
    "    raise RuntimeError('labelled Bern tiles not available on this machine, run on the dataserver')\n",
    "\n",
    "acc = 0\n",
    "f1 = 0\n",
    "\n",
    "wsis = os.listdir(Abed_utils.BERN_TILES_ROOT)\n",
    "with torch.no_grad():\n",
    "    for wsi in wsis:\n",
    "        ds = Abed_utils.BernTilesLabelDataset(wsi, transform=transform)\n",
    "        data = DataLoader(ds, batch_size=batch_size)\n",
    "        preds = np.empty(len(ds))\n",
    "        targets = np.empty_like(preds)\n",
    "        for i, (x, y) in enumerate(tqdm(data)):\n",
    "            idx = slice(i*batch_size,min((i+1)*batch_size, preds.shape[0]))\n",
    "            preds[idx] = model(x).cpu().numpy()\n",
    "            targets[idx] = y.cpu.numpy()\n",
    "\n"
   ],
   "metadata": {
    "collapsed": false,
    "pycharm": {
     "name": "#%%\n"
    }
   }
  }
 ],
 "metadata": {
  "kernelspec": {
   "display_name": "Python 3",
   "language": "python",
   "name": "python3"
  },
  "language_info": {
   "codemirror_mode": {
    "name": "ipython",
    "version": 2
   },
   "file_extension": ".py",
   "mimetype": "text/x-python",
   "name": "python",
   "nbconvert_exporter": "python",
   "pygments_lexer": "ipython2",
   "version": "2.7.6"
  }
 },
 "nbformat": 4,
 "nbformat_minor": 0
}