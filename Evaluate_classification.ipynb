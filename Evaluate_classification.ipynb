{
 "cells": [
  {
   "cell_type": "markdown",
   "metadata": {
    "collapsed": true,
    "pycharm": {
     "name": "#%% md\n"
    }
   },
   "source": [
    "# Evaluate the classifier's transferability on a tiled dataset from Bern cohorts"
   ]
  },
  {
   "cell_type": "code",
   "execution_count": null,
   "outputs": [],
   "source": [
    "import os\n",
    "\n",
    "import torch\n",
    "from torch import nn\n",
    "from torch.nn import functional as F\n",
    "from sklearn.metrics import f1_score, accuracy_score\n",
    "\n",
    "import Abed_utils"
   ],
   "metadata": {
    "collapsed": false,
    "pycharm": {
     "name": "#%%\n"
    }
   }
  },
  {
   "cell_type": "markdown",
   "source": [
    "## Load and build model"
   ],
   "metadata": {
    "collapsed": false,
    "pycharm": {
     "name": "#%% md\n"
    }
   }
  },
  {
   "cell_type": "code",
   "execution_count": null,
   "outputs": [],
   "source": [
    "patch_size = 8\n",
    "im_size = 224\n",
    "path_to_backbone = './ckpts/dino_deitsmall8_pretrain.pth'\n",
    "path_to_classifier = './ckpts/classifier_K19_CE_100ep_one_layer.pt'"
   ],
   "metadata": {
    "collapsed": false,
    "pycharm": {
     "name": "#%%\n"
    }
   }
  },
  {
   "cell_type": "code",
   "execution_count": null,
   "outputs": [],
   "source": [
    "backbone = Abed_utils.get_vit(patch_size, path_to_backbone)\n",
    "\n",
    "classifier = Abed_utils.ClassificationHead(pretrained_path=path_to_classifier)\n",
    "\n",
    "model = nn.Sequential(backbone, classifier)\n",
    "model.eval()\n",
    "\n",
    "if Abed_utils.BERN_TILES_ROOT is None:\n",
    "    raise RuntimeError('labelled Bern tiles not available on this machine, run on the dataserver')\n",
    "\n",
    "wsis = os.listdir(Abed_utils.BERN_TILES_ROOT)"
   ],
   "metadata": {
    "collapsed": false,
    "pycharm": {
     "name": "#%%\n"
    }
   }
  }
 ],
 "metadata": {
  "kernelspec": {
   "display_name": "Python 3",
   "language": "python",
   "name": "python3"
  },
  "language_info": {
   "codemirror_mode": {
    "name": "ipython",
    "version": 2
   },
   "file_extension": ".py",
   "mimetype": "text/x-python",
   "name": "python",
   "nbconvert_exporter": "python",
   "pygments_lexer": "ipython2",
   "version": "2.7.6"
  }
 },
 "nbformat": 4,
 "nbformat_minor": 0
}